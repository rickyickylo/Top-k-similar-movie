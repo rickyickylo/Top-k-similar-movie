{
 "cells": [
  {
   "cell_type": "code",
   "execution_count": 1,
   "metadata": {},
   "outputs": [],
   "source": [
    "import pandas as pd\n",
    "import numpy as np\n",
    "from numpy import linalg as LA\n",
    "from matplotlib import pyplot as plt\n",
    "import time\n",
    "import datetime\n",
    "df_links = pd.read_csv('links.csv')\n",
    "df_movies = pd.read_csv('movies.csv')\n",
    "df_ratings = pd.read_csv('ratings.csv')\n",
    "df_tags = pd.read_csv('tags.csv')"
   ]
  },
  {
   "cell_type": "code",
   "execution_count": 2,
   "metadata": {},
   "outputs": [],
   "source": [
    "def get_similarity_matrix(df_movies):\n",
    "    l = list(df_movies['genres'].str.split(\"|\"))\n",
    "    s = set()\n",
    "    for i in range(len(l)):\n",
    "        for j in l[i]:\n",
    "            s.add(j)\n",
    "    genre_l = list(s)\n",
    "    df_temp = df_movies.copy()\n",
    "    df_movie_profile_byGenres = pd.DataFrame(index=range(len(df_movies[\"movieId\"])),columns=genre_l)\n",
    "    for i in range(len(df_movies[\"movieId\"])):\n",
    "        for j in range(len(genre_l)):\n",
    "            df_movie_profile_byGenres[genre_l[j]][i] = int(genre_l[j] in df_temp[\"genres\"][i])\n",
    "    norm = np.array(df_movie_profile_byGenres.apply(LA.norm, axis=1)).reshape(-1,1)\n",
    "    normalization = df_movie_profile_byGenres/norm\n",
    "    similarity_matrix = np.dot(normalization,normalization.T)\n",
    "    df_similarity_matrix = pd.DataFrame(similarity_matrix)\n",
    "    df_similarity_matrix.columns=df_movies[\"movieId\"]\n",
    "    df_similarity_matrix.index=df_movies[\"movieId\"]\n",
    "    return df_similarity_matrix"
   ]
  },
  {
   "cell_type": "code",
   "execution_count": 88,
   "metadata": {},
   "outputs": [],
   "source": [
    "def getRequirement(df_ratings,df_movies, min_rating=0, from_date=\"1996-01-01\", end_date=\"2018-12-31\", min_total_rating=0):\n",
    "    from_timestamp = time.mktime(datetime.datetime.strptime(from_date, \"%Y-%m-%d\").timetuple())\n",
    "    end_timestamp = time.mktime(datetime.datetime.strptime(end_date, \"%Y-%m-%d\").timetuple())\n",
    "    df_summary = df_ratings.loc[(df_ratings[\"timestamp\"]>=from_timestamp)&(df_ratings[\"timestamp\"]<=end_timestamp)]\\\n",
    "    .groupby('movieId').agg({\"userId\":\"count\",\"rating\":\"mean\"}).reset_index()\n",
    "    df_summary.columns = [\"movieId\",\"total rating\",\"avg rating\"]\n",
    "    df_summary = df_summary.loc[(df_summary[\"avg rating\"]>=min_rating)&(df_summary[\"total rating\"]>=min_total_rating)]\n",
    "    df_summary = pd.merge(df_movies,df_summary,on=\"movieId\")\n",
    "    return df_summary"
   ]
  },
  {
   "cell_type": "code",
   "execution_count": 89,
   "metadata": {},
   "outputs": [],
   "source": [
    "def getkSimilar(df_similarity_matrix,df_summary,movieId=1,k=10,min_score=0,max_score=1):\n",
    "    df_TopkSimilarMovie = pd.merge(df_summary,df_similarity_matrix[movieId],left_on=\"movieId\",right_on=\"movieId\")\n",
    "    df_TopkSimilarMovie.columns = [\"movieId\", \"title\",\"genres\",\"total rating\",\"avg rating\",\"cos score\"]\n",
    "    df_TopkSimilarMovie = df_TopkSimilarMovie.loc[df_TopkSimilarMovie[\"movieId\"]!=movieId]\n",
    "    df_TopkSimilarMovie = df_TopkSimilarMovie.loc[(df_TopkSimilarMovie[\"cos score\"]<max_score)&(df_TopkSimilarMovie[\"cos score\"]>min_score)]\\\n",
    "    .sort_values(by=[\"cos score\",\"avg rating\",\"total rating\"],ascending=False).head(k)\n",
    "    return df_TopkSimilarMovie"
   ]
  },
  {
   "cell_type": "code",
   "execution_count": 7,
   "metadata": {},
   "outputs": [],
   "source": [
    "# User starts from here"
   ]
  },
  {
   "cell_type": "code",
   "execution_count": null,
   "metadata": {},
   "outputs": [],
   "source": [
    "# similarity matrix may take very long time to load up\n",
    "# but this will combine all movie genres, thus only necessary for first time usage.\n",
    "df_similarity_matrix = get_similarity_matrix(df_movies)"
   ]
  },
  {
   "cell_type": "code",
   "execution_count": null,
   "metadata": {},
   "outputs": [],
   "source": [
    "df_summary = getRequirement(df_ratings,df_movies)\n",
    "df_TopkSimilarMovie = getkSimilar(df_similarity_matrix,df_summary,movieId=3)\n",
    "df_TopkSimilarMovie"
   ]
  }
 ],
 "metadata": {
  "kernelspec": {
   "display_name": "Python 3",
   "language": "python",
   "name": "python3"
  },
  "language_info": {
   "codemirror_mode": {
    "name": "ipython",
    "version": 3
   },
   "file_extension": ".py",
   "mimetype": "text/x-python",
   "name": "python",
   "nbconvert_exporter": "python",
   "pygments_lexer": "ipython3",
   "version": "3.8.5"
  }
 },
 "nbformat": 4,
 "nbformat_minor": 4
}
